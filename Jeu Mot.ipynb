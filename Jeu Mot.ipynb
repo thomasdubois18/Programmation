{
 "cells": [
  {
   "cell_type": "code",
   "execution_count": 83,
   "metadata": {},
   "outputs": [],
   "source": [
    "import pandas as pd\n",
    "import random"
   ]
  },
  {
   "cell_type": "code",
   "execution_count": 46,
   "metadata": {},
   "outputs": [],
   "source": [
    "mots = pd.read_csv(\"mots.csv\",';')"
   ]
  },
  {
   "cell_type": "code",
   "execution_count": 47,
   "metadata": {},
   "outputs": [
    {
     "data": {
      "text/html": [
       "<div>\n",
       "<style scoped>\n",
       "    .dataframe tbody tr th:only-of-type {\n",
       "        vertical-align: middle;\n",
       "    }\n",
       "\n",
       "    .dataframe tbody tr th {\n",
       "        vertical-align: top;\n",
       "    }\n",
       "\n",
       "    .dataframe thead th {\n",
       "        text-align: right;\n",
       "    }\n",
       "</style>\n",
       "<table border=\"1\" class=\"dataframe\">\n",
       "  <thead>\n",
       "    <tr style=\"text-align: right;\">\n",
       "      <th></th>\n",
       "      <th>mots</th>\n",
       "      <th>difficulté</th>\n",
       "      <th>type</th>\n",
       "      <th>couleur</th>\n",
       "    </tr>\n",
       "  </thead>\n",
       "  <tbody>\n",
       "    <tr>\n",
       "      <th>0</th>\n",
       "      <td>bonjour</td>\n",
       "      <td>1</td>\n",
       "      <td>normal</td>\n",
       "      <td>bleu</td>\n",
       "    </tr>\n",
       "    <tr>\n",
       "      <th>1</th>\n",
       "      <td>rouge</td>\n",
       "      <td>1</td>\n",
       "      <td>couleur</td>\n",
       "      <td>bleu</td>\n",
       "    </tr>\n",
       "    <tr>\n",
       "      <th>2</th>\n",
       "      <td>crotte de nez</td>\n",
       "      <td>5</td>\n",
       "      <td>atypique</td>\n",
       "      <td>rouge</td>\n",
       "    </tr>\n",
       "  </tbody>\n",
       "</table>\n",
       "</div>"
      ],
      "text/plain": [
       "            mots  difficulté      type couleur\n",
       "0        bonjour           1    normal    bleu\n",
       "1          rouge           1   couleur    bleu\n",
       "2  crotte de nez           5  atypique   rouge"
      ]
     },
     "execution_count": 47,
     "metadata": {},
     "output_type": "execute_result"
    }
   ],
   "source": [
    "mots"
   ]
  },
  {
   "cell_type": "code",
   "execution_count": 78,
   "metadata": {},
   "outputs": [
    {
     "name": "stdout",
     "output_type": "stream",
     "text": [
      "crotte de nez\n"
     ]
    }
   ],
   "source": [
    "mots_rouge = mots[mots['couleur']=='rouge']\n",
    "df_r = mots_rouge[mots_rouge['difficulté']<=5].sample(1)\n",
    "print(df_r.iloc[0]['mots'])"
   ]
  },
  {
   "cell_type": "code",
   "execution_count": 86,
   "metadata": {},
   "outputs": [
    {
     "name": "stdout",
     "output_type": "stream",
     "text": [
      "5\n",
      "5\n"
     ]
    }
   ],
   "source": [
    "import tkinter as tk\n",
    "from tkinter import Toplevel, Spinbox, Frame, BOTTOM, TOP, LEFT, RIGHT, Label\n",
    "\n",
    "def createNewWindow():\n",
    "    newWindow = Toplevel(app)\n",
    "    newWindow.geometry(\"300x200\")\n",
    "    \n",
    "    # frame 1\n",
    "    topframe = Frame(newWindow)\n",
    "    topframe.pack( side = TOP )\n",
    "    label_diff = Label(topframe, text=\"Niveau de difficulté :  \")\n",
    "    label_diff.pack(side = LEFT)\n",
    "    global d\n",
    "    d = Spinbox(topframe, from_=1, to=5)\n",
    "    d.pack()\n",
    "    \n",
    "    # frame 2\n",
    "    frame2 = Frame(newWindow)\n",
    "    frame2.pack(side = TOP)\n",
    "    \n",
    "    label_time = Label(frame2, text=\"temps de manche :  \")\n",
    "    label_time.pack(side = LEFT)\n",
    "    global c1\n",
    "    c1 = Spinbox(frame2, from_=0, to=10, width=2)\n",
    "    c1.pack(side = LEFT)\n",
    "    minutes = Label(frame2, text=\"min\")\n",
    "    minutes.pack(side = LEFT)\n",
    "    global c2\n",
    "    c2 = Spinbox(frame2, from_=0, to=59, width=2)\n",
    "    c2.pack(side = LEFT)\n",
    "    secondes = Label(frame2, text=\"s\")\n",
    "    secondes.pack(side = LEFT)\n",
    "    \n",
    "    # frame 3\n",
    "    frame3 = Frame(newWindow)\n",
    "    frame3.pack(side = TOP)\n",
    "    label_bleu = Label(frame3, text=\"nombre de mots bleus :  \")\n",
    "    label_bleu.pack(side = TOP)\n",
    "    global b\n",
    "    b = Spinbox(frame3, from_=0, to=20)\n",
    "    b.pack()\n",
    "    label_rouge = Label(frame3, text=\"nombre de mots rouges :  \")\n",
    "    label_rouge.pack(side = TOP)\n",
    "    global r\n",
    "    r = Spinbox(frame3, from_=0, to=20)\n",
    "    r.pack()\n",
    "    buttonSTART = tk.Button(frame3, \n",
    "              text=\"Lancer une partie avec ces paramètres\",\n",
    "              command=START,\n",
    "              height = 4, \n",
    "              width = 30)\n",
    "\n",
    "    buttonSTART.pack()\n",
    "\n",
    "def START():\n",
    "    WindowStart = Toplevel(app)\n",
    "    WindowStart.geometry(\"300x200\")\n",
    "    \n",
    "    mots = pd.read_csv(\"mots.csv\",';')\n",
    "    \n",
    "    valeur_d  = int(d.get()) #difficulté\n",
    "    valeur_c1 = int(c1.get()) #temps 1\n",
    "    valeur_c2 = int(c2.get()) #temps 2\n",
    "    valeur_b  = int(b.get())  # nb bleu\n",
    "    valeur_r  = int(r.get())  #nb rouge\n",
    "    mots_rouge = mots[mots['couleur']=='rouge']\n",
    "    mots_bleu  = mots[mots['couleur']=='bleu']\n",
    "    \n",
    "    print(valeur_r)\n",
    "    print(valeur_b)\n",
    "    \n",
    "    df_r = mots_rouge[mots_rouge['difficulté']<=valeur_d].sample(valeur_r)\n",
    "    df_b = mots_bleu[mots_bleu['difficulté']<=valeur_d].sample(valeur_b)\n",
    "\n",
    "    #FRAME B\n",
    "    frameb = Frame(WindowStart)\n",
    "    frameb.pack(side = TOP)\n",
    "    \n",
    "    for i in range(int(valeur_b)):\n",
    "        Label(frameb, text=df_b.iloc[i]['mots']).pack()\n",
    "    #FRAME R\n",
    "    framer = Frame(WindowStart)\n",
    "    framer.pack(side = TOP)   \n",
    "    for i in range(int(valeur_r)):\n",
    "        Label(framer, text=df_r.iloc[i]['mots']).pack()\n",
    "\n",
    "    \n",
    "\n",
    "    \n",
    "    \n",
    "    \n",
    "    \n",
    "    \n",
    "    \n",
    "    \n",
    "\n",
    "app = tk.Tk()\n",
    "buttonExample = tk.Button(app, \n",
    "              text=\"Lancer une partie\",\n",
    "              command=createNewWindow)\n",
    "\n",
    "buttonExample.pack()\n",
    "\n",
    "app.mainloop()"
   ]
  },
  {
   "cell_type": "code",
   "execution_count": null,
   "metadata": {},
   "outputs": [],
   "source": []
  }
 ],
 "metadata": {
  "kernelspec": {
   "display_name": "Python 3",
   "language": "python",
   "name": "python3"
  },
  "language_info": {
   "codemirror_mode": {
    "name": "ipython",
    "version": 3
   },
   "file_extension": ".py",
   "mimetype": "text/x-python",
   "name": "python",
   "nbconvert_exporter": "python",
   "pygments_lexer": "ipython3",
   "version": "3.8.5"
  }
 },
 "nbformat": 4,
 "nbformat_minor": 4
}
