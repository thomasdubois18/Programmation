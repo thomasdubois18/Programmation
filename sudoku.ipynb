{
 "cells": [
  {
   "cell_type": "code",
   "execution_count": 27,
   "metadata": {},
   "outputs": [],
   "source": [
    "import numpy as np"
   ]
  },
  {
   "cell_type": "code",
   "execution_count": 96,
   "metadata": {},
   "outputs": [],
   "source": [
    "class sudoku():\n",
    "    def __init__(self):\n",
    "        \"\"\" Création de notre grille vide\"\"\"\n",
    "        self.m_grid   = np.array([[1,0,0,0,0,0,0,0,4],\n",
    "                                  [2,0,0,0,0,0,0,0,0],\n",
    "                                  [3,0,0,0,0,0,0,0,0],\n",
    "                                  [4,0,0,0,0,0,0,0,0],\n",
    "                                  [5,0,0,0,0,0,0,0,0],\n",
    "                                  [6,0,0,0,3,0,0,0,0],\n",
    "                                  [7,0,0,0,0,0,0,0,0],\n",
    "                                  [8,0,0,0,0,0,0,0,0],\n",
    "                                  [9,0,0,0,0,0,0,0,0],],dtype=int)\n",
    "\n",
    "    def set_value(self,value, indice_line, indice_col):\n",
    "        self.m_grid[indice_line,indice_col] == value\n",
    "        \n",
    "    def found_in_row(self,value,indice_line):\n",
    "        line = self.m_grid[indice_line]\n",
    "        ct  = 0\n",
    "        res = -1\n",
    "        for i in line:\n",
    "            if i == value:\n",
    "                res = ct\n",
    "                break\n",
    "            ct+=1\n",
    "        return res\n",
    "    \n",
    "    def found_in_col(self,value,indice_col):\n",
    "        res = -1\n",
    "        for i in range(9):\n",
    "            if self.m_grid[i,indice_col] == value:\n",
    "                res = i\n",
    "                break\n",
    "        return res\n",
    "    \n",
    "    def found_in_square(self,value,indice_row_square,indice_col_square):\n",
    "        res_i = -1\n",
    "        res_j = -1\n",
    "        for i in range(9):\n",
    "            if self.m_grid[i%3+3*indice_row_square,i//3+3*indice_col_square] == value:\n",
    "                res_i = i%3\n",
    "                res_j = i//3\n",
    "                break\n",
    "        return res_i,res_j\n",
    "    \n",
    "    def SOLVE(self):\n",
    "        for n_ligne in range(9):\n",
    "            for num in range(1,10):\n",
    "                if self.found_in_row(num,n_ligne) == -1:\n",
    "                    for n_col in range(9):\n",
    "                        if self.found_in_col(num,n_col) == -1:\n",
    "                            if self.found_in_square(num,n_ligne//3,n_col//3) == -1:\n",
    "                                self.set_value(num, n_ligne, n_col)\n",
    "    def print_grid(self):\n",
    "        print(self.m_grid)\n",
    "                    \n",
    "                    \n",
    "        \n"
   ]
  },
  {
   "cell_type": "code",
   "execution_count": 97,
   "metadata": {},
   "outputs": [],
   "source": [
    "a = sudoku()"
   ]
  },
  {
   "cell_type": "code",
   "execution_count": 98,
   "metadata": {},
   "outputs": [],
   "source": [
    "a.SOLVE()"
   ]
  },
  {
   "cell_type": "code",
   "execution_count": 99,
   "metadata": {},
   "outputs": [
    {
     "name": "stdout",
     "output_type": "stream",
     "text": [
      "[[1 0 0 0 0 0 0 0 4]\n",
      " [2 0 0 0 0 0 0 0 0]\n",
      " [3 0 0 0 0 0 0 0 0]\n",
      " [4 0 0 0 0 0 0 0 0]\n",
      " [5 0 0 0 0 0 0 0 0]\n",
      " [6 0 0 0 3 0 0 0 0]\n",
      " [7 0 0 0 0 0 0 0 0]\n",
      " [8 0 0 0 0 0 0 0 0]\n",
      " [9 0 0 0 0 0 0 0 0]]\n"
     ]
    }
   ],
   "source": [
    "a.print_grid()"
   ]
  },
  {
   "cell_type": "code",
   "execution_count": 77,
   "metadata": {},
   "outputs": [
    {
     "data": {
      "text/plain": [
       "0"
      ]
     },
     "execution_count": 77,
     "metadata": {},
     "output_type": "execute_result"
    }
   ],
   "source": [
    "a.found_in_row(6,0)"
   ]
  },
  {
   "cell_type": "code",
   "execution_count": null,
   "metadata": {},
   "outputs": [],
   "source": []
  }
 ],
 "metadata": {
  "kernelspec": {
   "display_name": "Python 3",
   "language": "python",
   "name": "python3"
  },
  "language_info": {
   "codemirror_mode": {
    "name": "ipython",
    "version": 3
   },
   "file_extension": ".py",
   "mimetype": "text/x-python",
   "name": "python",
   "nbconvert_exporter": "python",
   "pygments_lexer": "ipython3",
   "version": "3.8.5"
  }
 },
 "nbformat": 4,
 "nbformat_minor": 4
}
