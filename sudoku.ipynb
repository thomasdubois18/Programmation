{
 "cells": [
  {
   "cell_type": "code",
   "execution_count": 27,
   "metadata": {},
   "outputs": [],
   "source": [
    "import numpy as np"
   ]
  },
  {
   "cell_type": "code",
   "execution_count": 40,
   "metadata": {},
   "outputs": [],
   "source": [
    "class sudoku():\n",
    "    def __init__(self):\n",
    "        \"\"\" Création de notre grille vide\"\"\"\n",
    "        self.m_grid   = np.array([[-1,-1,-1,-1,6,-1,-1,-1,-1],\n",
    "                                  [-1,-1,-1,-1,-1,-1,-1,-1,-1],\n",
    "                                  [-1,-1,-1,-1,-1,-1,-1,-1,-1],\n",
    "                                  [-1,-1,-1,-1,-1,-1,-1,-1,-1],\n",
    "                                  [-1,-1,-1,-1,-1,-1,-1,-1,-1],\n",
    "                                  [-1,-1,-1,-1,-1,-1,-1,-1,-1],\n",
    "                                  [-1,-1,-1,-1,-1,-1,-1,-1,-1],\n",
    "                                  [-1,-1,-1,-1,-1,-1,-1,-1,-1],\n",
    "                                  [-1,-1,-1,-1,-1,-1,-1,-1,-1]],dtype=int)\n",
    "\n",
    "    def found_in_line(self,value,indice_line):\n",
    "        line = self.m_grid[indice_line]\n",
    "        ct  = 0\n",
    "        res = -1\n",
    "        for i in line:\n",
    "            if i == value:\n",
    "                res = ct\n",
    "                break\n",
    "            ct+=1\n",
    "        return res\n",
    "            \n",
    "        \n"
   ]
  },
  {
   "cell_type": "code",
   "execution_count": 41,
   "metadata": {},
   "outputs": [],
   "source": [
    "a = sudoku()"
   ]
  },
  {
   "cell_type": "code",
   "execution_count": 43,
   "metadata": {},
   "outputs": [
    {
     "data": {
      "text/plain": [
       "4"
      ]
     },
     "execution_count": 43,
     "metadata": {},
     "output_type": "execute_result"
    }
   ],
   "source": [
    "a.found_in_line(6,0)"
   ]
  },
  {
   "cell_type": "code",
   "execution_count": null,
   "metadata": {},
   "outputs": [],
   "source": []
  },
  {
   "cell_type": "code",
   "execution_count": null,
   "metadata": {},
   "outputs": [],
   "source": []
  },
  {
   "cell_type": "code",
   "execution_count": null,
   "metadata": {},
   "outputs": [],
   "source": []
  },
  {
   "cell_type": "code",
   "execution_count": null,
   "metadata": {},
   "outputs": [],
   "source": []
  }
 ],
 "metadata": {
  "kernelspec": {
   "display_name": "Python 3",
   "language": "python",
   "name": "python3"
  },
  "language_info": {
   "codemirror_mode": {
    "name": "ipython",
    "version": 3
   },
   "file_extension": ".py",
   "mimetype": "text/x-python",
   "name": "python",
   "nbconvert_exporter": "python",
   "pygments_lexer": "ipython3",
   "version": "3.8.5"
  }
 },
 "nbformat": 4,
 "nbformat_minor": 4
}
